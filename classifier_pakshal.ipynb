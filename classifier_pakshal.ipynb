{
 "cells": [
  {
   "cell_type": "code",
   "execution_count": 22,
   "metadata": {},
   "outputs": [
    {
     "ename": "SyntaxError",
     "evalue": "unexpected EOF while parsing (<ipython-input-22-4fd6b564827f>, line 4)",
     "output_type": "error",
     "traceback": [
      "\u001b[0;36m  File \u001b[0;32m\"<ipython-input-22-4fd6b564827f>\"\u001b[0;36m, line \u001b[0;32m4\u001b[0m\n\u001b[0;31m    \u001b[0m\n\u001b[0m    ^\u001b[0m\n\u001b[0;31mSyntaxError\u001b[0m\u001b[0;31m:\u001b[0m unexpected EOF while parsing\n"
     ]
    }
   ],
   "source": [
    "\n",
    "    \n",
    "\n"
   ]
  },
  {
   "cell_type": "code",
   "execution_count": 20,
   "metadata": {},
   "outputs": [
    {
     "name": "stdout",
     "output_type": "stream",
     "text": [
      "Collecting pandas\n",
      "  Downloading pandas-1.1.5-cp36-cp36m-manylinux1_x86_64.whl (9.5 MB)\n",
      "\u001b[K     |████████████████████████████████| 9.5 MB 12.4 MB/s eta 0:00:01\n",
      "\u001b[?25hRequirement already satisfied: python-dateutil>=2.7.3 in /usr/local/lib/python3.6/dist-packages (from pandas) (2.8.1)\n",
      "Collecting pytz>=2017.2\n",
      "  Downloading pytz-2021.1-py2.py3-none-any.whl (510 kB)\n",
      "\u001b[K     |████████████████████████████████| 510 kB 11.3 MB/s eta 0:00:01\n",
      "\u001b[?25hRequirement already satisfied: numpy>=1.15.4 in /usr/local/lib/python3.6/dist-packages (from pandas) (1.17.3)\n",
      "Requirement already satisfied: six>=1.5 in /usr/local/lib/python3.6/dist-packages (from python-dateutil>=2.7.3->pandas) (1.15.0)\n",
      "Installing collected packages: pytz, pandas\n",
      "Successfully installed pandas-1.1.5 pytz-2021.1\n",
      "\u001b[33mWARNING: You are using pip version 20.1.1; however, version 21.0.1 is available.\n",
      "You should consider upgrading via the '/usr/bin/python -m pip install --upgrade pip' command.\u001b[0m\n",
      "Note: you may need to restart the kernel to use updated packages.\n"
     ]
    }
   ],
   "source": [
    "pip install pandas"
   ]
  },
  {
   "cell_type": "code",
   "execution_count": 21,
   "metadata": {},
   "outputs": [],
   "source": [
    "import numpy as np \n",
    "import pandas as pd"
   ]
  },
  {
   "cell_type": "code",
   "execution_count": 23,
   "metadata": {},
   "outputs": [],
   "source": [
    "from numpy import load\n",
    "data = load('Master-dataset-elvin-faces-embeddings-160x160.npz')\n",
    "    \n"
   ]
  },
  {
   "cell_type": "code",
   "execution_count": 31,
   "metadata": {},
   "outputs": [
    {
     "data": {
      "text/plain": [
       "496186"
      ]
     },
     "execution_count": 31,
     "metadata": {},
     "output_type": "execute_result"
    }
   ],
   "source": [
    "len(data['arr_0'])\n"
   ]
  },
  {
   "cell_type": "code",
   "execution_count": 32,
   "metadata": {},
   "outputs": [
    {
     "data": {
      "text/plain": [
       "128"
      ]
     },
     "execution_count": 32,
     "metadata": {},
     "output_type": "execute_result"
    }
   ],
   "source": [
    "len(data['arr_0'][0])"
   ]
  },
  {
   "cell_type": "code",
   "execution_count": 33,
   "metadata": {},
   "outputs": [
    {
     "data": {
      "text/plain": [
       "array([[-0.24518836, -0.73760843,  1.4221888 , ..., -0.9882831 ,\n",
       "        -2.4368005 ,  0.23761235],\n",
       "       [-0.1259648 , -0.6744375 ,  1.0117422 , ..., -1.0394602 ,\n",
       "         0.15704265,  1.1933935 ],\n",
       "       [ 1.9112606 , -0.05760001,  1.5938076 , ..., -0.5050589 ,\n",
       "        -1.8831264 , -0.20920381],\n",
       "       ...,\n",
       "       [ 0.6588384 ,  0.3751329 , -0.0883819 , ...,  0.93743926,\n",
       "        -0.34739277,  0.42180833],\n",
       "       [-1.4719577 , -1.6683905 ,  0.9184567 , ...,  0.673903  ,\n",
       "        -1.4664028 , -0.145102  ],\n",
       "       [-0.02256086,  0.12363672, -0.8402474 , ...,  1.208327  ,\n",
       "         0.54131407, -1.0323056 ]], dtype=float32)"
      ]
     },
     "execution_count": 33,
     "metadata": {},
     "output_type": "execute_result"
    }
   ],
   "source": [
    "data['arr_0']"
   ]
  },
  {
   "cell_type": "code",
   "execution_count": 34,
   "metadata": {},
   "outputs": [
    {
     "data": {
      "text/html": [
       "<div>\n",
       "<style scoped>\n",
       "    .dataframe tbody tr th:only-of-type {\n",
       "        vertical-align: middle;\n",
       "    }\n",
       "\n",
       "    .dataframe tbody tr th {\n",
       "        vertical-align: top;\n",
       "    }\n",
       "\n",
       "    .dataframe thead th {\n",
       "        text-align: right;\n",
       "    }\n",
       "</style>\n",
       "<table border=\"1\" class=\"dataframe\">\n",
       "  <thead>\n",
       "    <tr style=\"text-align: right;\">\n",
       "      <th></th>\n",
       "      <th>0</th>\n",
       "      <th>1</th>\n",
       "      <th>2</th>\n",
       "      <th>3</th>\n",
       "      <th>4</th>\n",
       "      <th>5</th>\n",
       "      <th>6</th>\n",
       "      <th>7</th>\n",
       "      <th>8</th>\n",
       "      <th>9</th>\n",
       "      <th>...</th>\n",
       "      <th>118</th>\n",
       "      <th>119</th>\n",
       "      <th>120</th>\n",
       "      <th>121</th>\n",
       "      <th>122</th>\n",
       "      <th>123</th>\n",
       "      <th>124</th>\n",
       "      <th>125</th>\n",
       "      <th>126</th>\n",
       "      <th>127</th>\n",
       "    </tr>\n",
       "  </thead>\n",
       "  <tbody>\n",
       "    <tr>\n",
       "      <th>0</th>\n",
       "      <td>-0.245188</td>\n",
       "      <td>-0.737608</td>\n",
       "      <td>1.422189</td>\n",
       "      <td>-1.677795</td>\n",
       "      <td>0.627674</td>\n",
       "      <td>-0.122914</td>\n",
       "      <td>1.035775</td>\n",
       "      <td>0.275415</td>\n",
       "      <td>0.067022</td>\n",
       "      <td>-0.014455</td>\n",
       "      <td>...</td>\n",
       "      <td>-1.909675</td>\n",
       "      <td>-2.040952</td>\n",
       "      <td>0.123643</td>\n",
       "      <td>2.320472</td>\n",
       "      <td>1.112247</td>\n",
       "      <td>-0.727093</td>\n",
       "      <td>-0.125016</td>\n",
       "      <td>-0.988283</td>\n",
       "      <td>-2.436800</td>\n",
       "      <td>0.237612</td>\n",
       "    </tr>\n",
       "    <tr>\n",
       "      <th>1</th>\n",
       "      <td>-0.125965</td>\n",
       "      <td>-0.674438</td>\n",
       "      <td>1.011742</td>\n",
       "      <td>-0.658143</td>\n",
       "      <td>0.752599</td>\n",
       "      <td>2.455487</td>\n",
       "      <td>-0.559367</td>\n",
       "      <td>-0.544653</td>\n",
       "      <td>0.317244</td>\n",
       "      <td>0.261937</td>\n",
       "      <td>...</td>\n",
       "      <td>-1.160016</td>\n",
       "      <td>-0.937926</td>\n",
       "      <td>0.753021</td>\n",
       "      <td>0.980638</td>\n",
       "      <td>1.829339</td>\n",
       "      <td>0.411952</td>\n",
       "      <td>0.610086</td>\n",
       "      <td>-1.039460</td>\n",
       "      <td>0.157043</td>\n",
       "      <td>1.193393</td>\n",
       "    </tr>\n",
       "    <tr>\n",
       "      <th>2</th>\n",
       "      <td>1.911261</td>\n",
       "      <td>-0.057600</td>\n",
       "      <td>1.593808</td>\n",
       "      <td>-0.299017</td>\n",
       "      <td>0.907039</td>\n",
       "      <td>0.700463</td>\n",
       "      <td>1.451412</td>\n",
       "      <td>-1.515482</td>\n",
       "      <td>0.540109</td>\n",
       "      <td>-1.151020</td>\n",
       "      <td>...</td>\n",
       "      <td>-0.901814</td>\n",
       "      <td>-0.215496</td>\n",
       "      <td>1.310726</td>\n",
       "      <td>1.696106</td>\n",
       "      <td>1.330549</td>\n",
       "      <td>-0.470354</td>\n",
       "      <td>0.956021</td>\n",
       "      <td>-0.505059</td>\n",
       "      <td>-1.883126</td>\n",
       "      <td>-0.209204</td>\n",
       "    </tr>\n",
       "    <tr>\n",
       "      <th>3</th>\n",
       "      <td>0.359161</td>\n",
       "      <td>0.287299</td>\n",
       "      <td>-1.877541</td>\n",
       "      <td>-0.823984</td>\n",
       "      <td>0.019455</td>\n",
       "      <td>-0.113974</td>\n",
       "      <td>-0.446364</td>\n",
       "      <td>0.116534</td>\n",
       "      <td>-2.045447</td>\n",
       "      <td>0.222950</td>\n",
       "      <td>...</td>\n",
       "      <td>-0.454261</td>\n",
       "      <td>-1.418856</td>\n",
       "      <td>1.432323</td>\n",
       "      <td>0.540795</td>\n",
       "      <td>0.191822</td>\n",
       "      <td>-1.179435</td>\n",
       "      <td>-0.686827</td>\n",
       "      <td>-0.778500</td>\n",
       "      <td>0.103023</td>\n",
       "      <td>-0.571842</td>\n",
       "    </tr>\n",
       "    <tr>\n",
       "      <th>4</th>\n",
       "      <td>-0.157880</td>\n",
       "      <td>0.061466</td>\n",
       "      <td>2.105776</td>\n",
       "      <td>-0.075770</td>\n",
       "      <td>-0.432704</td>\n",
       "      <td>0.022806</td>\n",
       "      <td>-0.336965</td>\n",
       "      <td>0.505364</td>\n",
       "      <td>0.316687</td>\n",
       "      <td>-0.613204</td>\n",
       "      <td>...</td>\n",
       "      <td>-0.750998</td>\n",
       "      <td>0.718066</td>\n",
       "      <td>0.711149</td>\n",
       "      <td>-1.277335</td>\n",
       "      <td>-0.313740</td>\n",
       "      <td>0.677282</td>\n",
       "      <td>0.080625</td>\n",
       "      <td>-0.074810</td>\n",
       "      <td>-1.409033</td>\n",
       "      <td>-2.201988</td>\n",
       "    </tr>\n",
       "    <tr>\n",
       "      <th>...</th>\n",
       "      <td>...</td>\n",
       "      <td>...</td>\n",
       "      <td>...</td>\n",
       "      <td>...</td>\n",
       "      <td>...</td>\n",
       "      <td>...</td>\n",
       "      <td>...</td>\n",
       "      <td>...</td>\n",
       "      <td>...</td>\n",
       "      <td>...</td>\n",
       "      <td>...</td>\n",
       "      <td>...</td>\n",
       "      <td>...</td>\n",
       "      <td>...</td>\n",
       "      <td>...</td>\n",
       "      <td>...</td>\n",
       "      <td>...</td>\n",
       "      <td>...</td>\n",
       "      <td>...</td>\n",
       "      <td>...</td>\n",
       "      <td>...</td>\n",
       "    </tr>\n",
       "    <tr>\n",
       "      <th>496181</th>\n",
       "      <td>-0.761528</td>\n",
       "      <td>0.131457</td>\n",
       "      <td>-0.941754</td>\n",
       "      <td>-0.131003</td>\n",
       "      <td>1.589541</td>\n",
       "      <td>-1.294604</td>\n",
       "      <td>0.880934</td>\n",
       "      <td>-0.014305</td>\n",
       "      <td>-1.402464</td>\n",
       "      <td>0.934485</td>\n",
       "      <td>...</td>\n",
       "      <td>0.127103</td>\n",
       "      <td>1.375130</td>\n",
       "      <td>0.059523</td>\n",
       "      <td>0.613316</td>\n",
       "      <td>0.479680</td>\n",
       "      <td>1.282919</td>\n",
       "      <td>0.291834</td>\n",
       "      <td>0.495937</td>\n",
       "      <td>1.168253</td>\n",
       "      <td>-0.637564</td>\n",
       "    </tr>\n",
       "    <tr>\n",
       "      <th>496182</th>\n",
       "      <td>0.577461</td>\n",
       "      <td>0.135512</td>\n",
       "      <td>-0.101582</td>\n",
       "      <td>-1.391632</td>\n",
       "      <td>-0.523375</td>\n",
       "      <td>0.755930</td>\n",
       "      <td>-1.592131</td>\n",
       "      <td>-0.964536</td>\n",
       "      <td>-1.863965</td>\n",
       "      <td>-0.512918</td>\n",
       "      <td>...</td>\n",
       "      <td>-1.470387</td>\n",
       "      <td>-0.402164</td>\n",
       "      <td>2.061747</td>\n",
       "      <td>0.376938</td>\n",
       "      <td>-0.211461</td>\n",
       "      <td>-1.085059</td>\n",
       "      <td>-0.605057</td>\n",
       "      <td>-1.575575</td>\n",
       "      <td>1.217990</td>\n",
       "      <td>-2.064930</td>\n",
       "    </tr>\n",
       "    <tr>\n",
       "      <th>496183</th>\n",
       "      <td>0.658838</td>\n",
       "      <td>0.375133</td>\n",
       "      <td>-0.088382</td>\n",
       "      <td>0.216607</td>\n",
       "      <td>0.190754</td>\n",
       "      <td>-0.569292</td>\n",
       "      <td>1.129763</td>\n",
       "      <td>-0.550505</td>\n",
       "      <td>-0.534636</td>\n",
       "      <td>-0.049395</td>\n",
       "      <td>...</td>\n",
       "      <td>0.204349</td>\n",
       "      <td>-0.589639</td>\n",
       "      <td>-1.682846</td>\n",
       "      <td>0.379447</td>\n",
       "      <td>1.997822</td>\n",
       "      <td>-1.816152</td>\n",
       "      <td>-0.231251</td>\n",
       "      <td>0.937439</td>\n",
       "      <td>-0.347393</td>\n",
       "      <td>0.421808</td>\n",
       "    </tr>\n",
       "    <tr>\n",
       "      <th>496184</th>\n",
       "      <td>-1.471958</td>\n",
       "      <td>-1.668391</td>\n",
       "      <td>0.918457</td>\n",
       "      <td>-1.781344</td>\n",
       "      <td>-1.076963</td>\n",
       "      <td>0.961755</td>\n",
       "      <td>-0.467006</td>\n",
       "      <td>2.186709</td>\n",
       "      <td>1.157108</td>\n",
       "      <td>-0.530622</td>\n",
       "      <td>...</td>\n",
       "      <td>-0.066724</td>\n",
       "      <td>-0.509961</td>\n",
       "      <td>1.341777</td>\n",
       "      <td>0.849664</td>\n",
       "      <td>-1.056721</td>\n",
       "      <td>-0.477738</td>\n",
       "      <td>1.222115</td>\n",
       "      <td>0.673903</td>\n",
       "      <td>-1.466403</td>\n",
       "      <td>-0.145102</td>\n",
       "    </tr>\n",
       "    <tr>\n",
       "      <th>496185</th>\n",
       "      <td>-0.022561</td>\n",
       "      <td>0.123637</td>\n",
       "      <td>-0.840247</td>\n",
       "      <td>-1.006814</td>\n",
       "      <td>-0.292775</td>\n",
       "      <td>-0.947330</td>\n",
       "      <td>-0.722143</td>\n",
       "      <td>-0.265000</td>\n",
       "      <td>0.995127</td>\n",
       "      <td>0.039361</td>\n",
       "      <td>...</td>\n",
       "      <td>1.031446</td>\n",
       "      <td>1.664164</td>\n",
       "      <td>0.124696</td>\n",
       "      <td>-0.554030</td>\n",
       "      <td>-0.077797</td>\n",
       "      <td>-0.898471</td>\n",
       "      <td>-0.015448</td>\n",
       "      <td>1.208327</td>\n",
       "      <td>0.541314</td>\n",
       "      <td>-1.032306</td>\n",
       "    </tr>\n",
       "  </tbody>\n",
       "</table>\n",
       "<p>496186 rows × 128 columns</p>\n",
       "</div>"
      ],
      "text/plain": [
       "             0         1         2         3         4         5         6    \\\n",
       "0      -0.245188 -0.737608  1.422189 -1.677795  0.627674 -0.122914  1.035775   \n",
       "1      -0.125965 -0.674438  1.011742 -0.658143  0.752599  2.455487 -0.559367   \n",
       "2       1.911261 -0.057600  1.593808 -0.299017  0.907039  0.700463  1.451412   \n",
       "3       0.359161  0.287299 -1.877541 -0.823984  0.019455 -0.113974 -0.446364   \n",
       "4      -0.157880  0.061466  2.105776 -0.075770 -0.432704  0.022806 -0.336965   \n",
       "...          ...       ...       ...       ...       ...       ...       ...   \n",
       "496181 -0.761528  0.131457 -0.941754 -0.131003  1.589541 -1.294604  0.880934   \n",
       "496182  0.577461  0.135512 -0.101582 -1.391632 -0.523375  0.755930 -1.592131   \n",
       "496183  0.658838  0.375133 -0.088382  0.216607  0.190754 -0.569292  1.129763   \n",
       "496184 -1.471958 -1.668391  0.918457 -1.781344 -1.076963  0.961755 -0.467006   \n",
       "496185 -0.022561  0.123637 -0.840247 -1.006814 -0.292775 -0.947330 -0.722143   \n",
       "\n",
       "             7         8         9    ...       118       119       120  \\\n",
       "0       0.275415  0.067022 -0.014455  ... -1.909675 -2.040952  0.123643   \n",
       "1      -0.544653  0.317244  0.261937  ... -1.160016 -0.937926  0.753021   \n",
       "2      -1.515482  0.540109 -1.151020  ... -0.901814 -0.215496  1.310726   \n",
       "3       0.116534 -2.045447  0.222950  ... -0.454261 -1.418856  1.432323   \n",
       "4       0.505364  0.316687 -0.613204  ... -0.750998  0.718066  0.711149   \n",
       "...          ...       ...       ...  ...       ...       ...       ...   \n",
       "496181 -0.014305 -1.402464  0.934485  ...  0.127103  1.375130  0.059523   \n",
       "496182 -0.964536 -1.863965 -0.512918  ... -1.470387 -0.402164  2.061747   \n",
       "496183 -0.550505 -0.534636 -0.049395  ...  0.204349 -0.589639 -1.682846   \n",
       "496184  2.186709  1.157108 -0.530622  ... -0.066724 -0.509961  1.341777   \n",
       "496185 -0.265000  0.995127  0.039361  ...  1.031446  1.664164  0.124696   \n",
       "\n",
       "             121       122       123       124       125       126       127  \n",
       "0       2.320472  1.112247 -0.727093 -0.125016 -0.988283 -2.436800  0.237612  \n",
       "1       0.980638  1.829339  0.411952  0.610086 -1.039460  0.157043  1.193393  \n",
       "2       1.696106  1.330549 -0.470354  0.956021 -0.505059 -1.883126 -0.209204  \n",
       "3       0.540795  0.191822 -1.179435 -0.686827 -0.778500  0.103023 -0.571842  \n",
       "4      -1.277335 -0.313740  0.677282  0.080625 -0.074810 -1.409033 -2.201988  \n",
       "...          ...       ...       ...       ...       ...       ...       ...  \n",
       "496181  0.613316  0.479680  1.282919  0.291834  0.495937  1.168253 -0.637564  \n",
       "496182  0.376938 -0.211461 -1.085059 -0.605057 -1.575575  1.217990 -2.064930  \n",
       "496183  0.379447  1.997822 -1.816152 -0.231251  0.937439 -0.347393  0.421808  \n",
       "496184  0.849664 -1.056721 -0.477738  1.222115  0.673903 -1.466403 -0.145102  \n",
       "496185 -0.554030 -0.077797 -0.898471 -0.015448  1.208327  0.541314 -1.032306  \n",
       "\n",
       "[496186 rows x 128 columns]"
      ]
     },
     "execution_count": 34,
     "metadata": {},
     "output_type": "execute_result"
    }
   ],
   "source": [
    "X = pd.DataFrame(data['arr_0'])\n",
    "X"
   ]
  },
  {
   "cell_type": "code",
   "execution_count": 35,
   "metadata": {},
   "outputs": [
    {
     "data": {
      "text/plain": [
       "0         fake\n",
       "1         fake\n",
       "2         fake\n",
       "3         fake\n",
       "4         fake\n",
       "          ... \n",
       "496181    real\n",
       "496182    real\n",
       "496183    real\n",
       "496184    real\n",
       "496185    real\n",
       "Length: 496186, dtype: object"
      ]
     },
     "execution_count": 35,
     "metadata": {},
     "output_type": "execute_result"
    }
   ],
   "source": [
    "y = pd.Series(data['arr_1'])\n",
    "y"
   ]
  },
  {
   "cell_type": "code",
   "execution_count": 38,
   "metadata": {},
   "outputs": [
    {
     "data": {
      "text/plain": [
       "0         0\n",
       "1         0\n",
       "2         0\n",
       "3         0\n",
       "4         0\n",
       "         ..\n",
       "496181    1\n",
       "496182    1\n",
       "496183    1\n",
       "496184    1\n",
       "496185    1\n",
       "Length: 496186, dtype: object"
      ]
     },
     "execution_count": 38,
     "metadata": {},
     "output_type": "execute_result"
    }
   ],
   "source": [
    "y[y == 'fake'] = 0\n",
    "y[y == 'real'] = 1\n",
    "y"
   ]
  },
  {
   "cell_type": "code",
   "execution_count": 39,
   "metadata": {},
   "outputs": [],
   "source": [
    "y=y.astype('int')"
   ]
  },
  {
   "cell_type": "code",
   "execution_count": 41,
   "metadata": {},
   "outputs": [
    {
     "name": "stdout",
     "output_type": "stream",
     "text": [
      "Collecting matplotlib\n",
      "  Downloading matplotlib-3.3.4-cp36-cp36m-manylinux1_x86_64.whl (11.5 MB)\n",
      "\u001b[K     |████████████████████████████████| 11.5 MB 10.5 MB/s eta 0:00:01\n",
      "\u001b[?25hCollecting kiwisolver>=1.0.1\n",
      "  Downloading kiwisolver-1.3.1-cp36-cp36m-manylinux1_x86_64.whl (1.1 MB)\n",
      "\u001b[K     |████████████████████████████████| 1.1 MB 11.3 MB/s eta 0:00:01\n",
      "\u001b[?25hRequirement already satisfied: numpy>=1.15 in /usr/local/lib/python3.6/dist-packages (from matplotlib) (1.17.3)\n",
      "Requirement already satisfied: pyparsing!=2.0.4,!=2.1.2,!=2.1.6,>=2.0.3 in /usr/local/lib/python3.6/dist-packages (from matplotlib) (2.4.7)\n",
      "Requirement already satisfied: python-dateutil>=2.1 in /usr/local/lib/python3.6/dist-packages (from matplotlib) (2.8.1)\n",
      "Collecting cycler>=0.10\n",
      "  Downloading cycler-0.10.0-py2.py3-none-any.whl (6.5 kB)\n",
      "Collecting pillow>=6.2.0\n",
      "  Downloading Pillow-8.1.0-cp36-cp36m-manylinux1_x86_64.whl (2.2 MB)\n",
      "\u001b[K     |████████████████████████████████| 2.2 MB 11.3 MB/s eta 0:00:01\n",
      "\u001b[?25hRequirement already satisfied: six>=1.5 in /usr/local/lib/python3.6/dist-packages (from python-dateutil>=2.1->matplotlib) (1.15.0)\n",
      "Installing collected packages: kiwisolver, cycler, pillow, matplotlib\n",
      "Successfully installed cycler-0.10.0 kiwisolver-1.3.1 matplotlib-3.3.4 pillow-8.1.0\n",
      "\u001b[33mWARNING: You are using pip version 20.1.1; however, version 21.0.1 is available.\n",
      "You should consider upgrading via the '/usr/bin/python -m pip install --upgrade pip' command.\u001b[0m\n",
      "Note: you may need to restart the kernel to use updated packages.\n"
     ]
    }
   ],
   "source": [
    "pip install matplotlib"
   ]
  },
  {
   "cell_type": "code",
   "execution_count": 43,
   "metadata": {},
   "outputs": [
    {
     "name": "stdout",
     "output_type": "stream",
     "text": [
      "Collecting seaborn\n",
      "  Downloading seaborn-0.11.1-py3-none-any.whl (285 kB)\n",
      "\u001b[K     |████████████████████████████████| 285 kB 12.5 MB/s eta 0:00:01\n",
      "\u001b[?25hRequirement already satisfied: pandas>=0.23 in /usr/local/lib/python3.6/dist-packages (from seaborn) (1.1.5)\n",
      "Requirement already satisfied: scipy>=1.0 in /usr/local/lib/python3.6/dist-packages (from seaborn) (1.4.1)\n",
      "Requirement already satisfied: matplotlib>=2.2 in /usr/local/lib/python3.6/dist-packages (from seaborn) (3.3.4)\n",
      "Requirement already satisfied: numpy>=1.15 in /usr/local/lib/python3.6/dist-packages (from seaborn) (1.17.3)\n",
      "Requirement already satisfied: pytz>=2017.2 in /usr/local/lib/python3.6/dist-packages (from pandas>=0.23->seaborn) (2021.1)\n",
      "Requirement already satisfied: python-dateutil>=2.7.3 in /usr/local/lib/python3.6/dist-packages (from pandas>=0.23->seaborn) (2.8.1)\n",
      "Requirement already satisfied: cycler>=0.10 in /usr/local/lib/python3.6/dist-packages (from matplotlib>=2.2->seaborn) (0.10.0)\n",
      "Requirement already satisfied: pillow>=6.2.0 in /usr/local/lib/python3.6/dist-packages (from matplotlib>=2.2->seaborn) (8.1.0)\n",
      "Requirement already satisfied: kiwisolver>=1.0.1 in /usr/local/lib/python3.6/dist-packages (from matplotlib>=2.2->seaborn) (1.3.1)\n",
      "Requirement already satisfied: pyparsing!=2.0.4,!=2.1.2,!=2.1.6,>=2.0.3 in /usr/local/lib/python3.6/dist-packages (from matplotlib>=2.2->seaborn) (2.4.7)\n",
      "Requirement already satisfied: six>=1.5 in /usr/local/lib/python3.6/dist-packages (from python-dateutil>=2.7.3->pandas>=0.23->seaborn) (1.15.0)\n",
      "Installing collected packages: seaborn\n",
      "Successfully installed seaborn-0.11.1\n",
      "\u001b[33mWARNING: You are using pip version 20.1.1; however, version 21.0.1 is available.\n",
      "You should consider upgrading via the '/usr/bin/python -m pip install --upgrade pip' command.\u001b[0m\n",
      "Note: you may need to restart the kernel to use updated packages.\n"
     ]
    }
   ],
   "source": [
    "pip install seaborn\n"
   ]
  },
  {
   "cell_type": "code",
   "execution_count": 44,
   "metadata": {},
   "outputs": [],
   "source": [
    "import numpy as np\n",
    "import matplotlib.pyplot as plt\n",
    "import seaborn as sns\n",
    "%matplotlib inline\n",
    "\n",
    "# Set random seed\n",
    "np.random.seed(42)"
   ]
  },
  {
   "cell_type": "code",
   "execution_count": 45,
   "metadata": {},
   "outputs": [
    {
     "data": {
      "text/plain": [
       "False"
      ]
     },
     "execution_count": 45,
     "metadata": {},
     "output_type": "execute_result"
    }
   ],
   "source": [
    "X.isnull().values.any()"
   ]
  },
  {
   "cell_type": "code",
   "execution_count": 46,
   "metadata": {},
   "outputs": [
    {
     "data": {
      "text/plain": [
       "False"
      ]
     },
     "execution_count": 46,
     "metadata": {},
     "output_type": "execute_result"
    }
   ],
   "source": [
    "y.isnull().values.any()"
   ]
  },
  {
   "cell_type": "code",
   "execution_count": null,
   "metadata": {},
   "outputs": [],
   "source": [
    "from sklearn.metrics import make_scorer\n",
    "from sklearn.metrics import accuracy_score\n",
    "from sklearn.metrics import precision_score\n",
    "from sklearn.metrics import recall_score\n",
    "from sklearn.metrics import f1_score\n",
    "from sklearn.model_selection import cross_validate\n",
    "\n",
    "# Define dictionary with performance metrics\n",
    "scoring = {'accuracy':make_scorer(accuracy_score), \n",
    "           'precision':make_scorer(precision_score),\n",
    "           'recall':make_scorer(recall_score), \n",
    "           'f1_score':make_scorer(f1_score)}\n",
    "\n",
    "# Import required libraries for machine learning classifiers\n",
    "from sklearn.linear_model import LogisticRegression\n",
    "from sklearn.svm import LinearSVC\n",
    "from sklearn.tree import DecisionTreeClassifier\n",
    "from sklearn.ensemble import RandomForestClassifier\n",
    "from sklearn.naive_bayes import GaussianNB\n",
    "\n",
    "# Instantiate the machine learning classifiers\n",
    "log_model = LogisticRegression(max_iter=10000)\n",
    "svc_model = LinearSVC(dual=False)\n",
    "dtr_model = DecisionTreeClassifier()\n",
    "rfc_model = RandomForestClassifier()\n",
    "gnb_model = GaussianNB()\n",
    "\n",
    "# Define the models evaluation function\n",
    "def models_evaluation(X, y, folds):\n",
    "    \n",
    "    # Perform cross-validation to each machine learning classifier\n",
    "    log = cross_validate(log_model, X, y, cv=folds, scoring=scoring)\n",
    "    svc = cross_validate(svc_model, X, y, cv=folds, scoring=scoring)\n",
    "    dtr = cross_validate(dtr_model, X, y, cv=folds, scoring=scoring)\n",
    "    rfc = cross_validate(rfc_model, X, y, cv=folds, scoring=scoring)\n",
    "    gnb = cross_validate(gnb_model, X, y, cv=folds, scoring=scoring)\n",
    "\n",
    "    # Create a data frame with the models perfoamnce metrics scores\n",
    "    models_scores_table = pd.DataFrame({'Logistic Regression':[log['test_accuracy'].mean(),\n",
    "                                                               log['test_precision'].mean(),\n",
    "                                                               log['test_recall'].mean(),\n",
    "                                                               log['test_f1_score'].mean()],\n",
    "                                       \n",
    "                                      'Support Vector Classifier':[svc['test_accuracy'].mean(),\n",
    "                                                                   svc['test_precision'].mean(),\n",
    "                                                                   svc['test_recall'].mean(),\n",
    "                                                                   svc['test_f1_score'].mean()],\n",
    "                                       \n",
    "                                      'Decision Tree':[dtr['test_accuracy'].mean(),\n",
    "                                                       dtr['test_precision'].mean(),\n",
    "                                                       dtr['test_recall'].mean(),\n",
    "                                                       dtr['test_f1_score'].mean()],\n",
    "                                       \n",
    "                                      'Random Forest':[rfc['test_accuracy'].mean(),\n",
    "                                                       rfc['test_precision'].mean(),\n",
    "                                                       rfc['test_recall'].mean(),\n",
    "                                                       rfc['test_f1_score'].mean()],\n",
    "                                       \n",
    "                                      'Gaussian Naive Bayes':[gnb['test_accuracy'].mean(),\n",
    "                                                              gnb['test_precision'].mean(),\n",
    "                                                              gnb['test_recall'].mean(),\n",
    "                                                              gnb['test_f1_score'].mean()]},\n",
    "                                      \n",
    "                                      index=['Accuracy', 'Precision', 'Recall', 'F1 Score'])\n",
    "    \n",
    "    # Add 'Best Score' column\n",
    "    models_scores_table['Best Score'] = models_scores_table.idxmax(axis=1)\n",
    "    \n",
    "    # Return models performance metrics scores data frame\n",
    "    return(models_scores_table)\n",
    "  \n",
    "# Run models_evaluation function\n",
    "models_evaluation(X, y, 5)"
   ]
  },
  {
   "cell_type": "code",
   "execution_count": 48,
   "metadata": {},
   "outputs": [
    {
     "name": "stdout",
     "output_type": "stream",
     "text": [
      "Collecting sklearn\n",
      "  Downloading sklearn-0.0.tar.gz (1.1 kB)\n",
      "Collecting scikit-learn\n",
      "  Downloading scikit_learn-0.24.1-cp36-cp36m-manylinux2010_x86_64.whl (22.2 MB)\n",
      "\u001b[K     |████████████████████████████████| 22.2 MB 10.5 MB/s eta 0:00:01\n",
      "\u001b[?25hRequirement already satisfied: numpy>=1.13.3 in /usr/local/lib/python3.6/dist-packages (from scikit-learn->sklearn) (1.17.3)\n",
      "Collecting joblib>=0.11\n",
      "  Downloading joblib-1.0.1-py3-none-any.whl (303 kB)\n",
      "\u001b[K     |████████████████████████████████| 303 kB 11.4 MB/s eta 0:00:01\n",
      "\u001b[?25hRequirement already satisfied: scipy>=0.19.1 in /usr/local/lib/python3.6/dist-packages (from scikit-learn->sklearn) (1.4.1)\n",
      "Collecting threadpoolctl>=2.0.0\n",
      "  Downloading threadpoolctl-2.1.0-py3-none-any.whl (12 kB)\n",
      "Building wheels for collected packages: sklearn\n",
      "  Building wheel for sklearn (setup.py) ... \u001b[?25ldone\n",
      "\u001b[?25h  Created wheel for sklearn: filename=sklearn-0.0-py2.py3-none-any.whl size=1315 sha256=2b4e06de2ff1d8c526e6af54722ab9d920cc18353db88df30f1e0dd54c3be84a\n",
      "  Stored in directory: /root/.cache/pip/wheels/23/9d/42/5ec745cbbb17517000a53cecc49d6a865450d1f5cb16dc8a9c\n",
      "Successfully built sklearn\n",
      "Installing collected packages: joblib, threadpoolctl, scikit-learn, sklearn\n",
      "Successfully installed joblib-1.0.1 scikit-learn-0.24.1 sklearn-0.0 threadpoolctl-2.1.0\n",
      "\u001b[33mWARNING: You are using pip version 20.1.1; however, version 21.0.1 is available.\n",
      "You should consider upgrading via the '/usr/bin/python -m pip install --upgrade pip' command.\u001b[0m\n",
      "Note: you may need to restart the kernel to use updated packages.\n"
     ]
    }
   ],
   "source": [
    "pip install sklearn"
   ]
  },
  {
   "cell_type": "code",
   "execution_count": null,
   "metadata": {},
   "outputs": [],
   "source": []
  }
 ],
 "metadata": {
  "kernelspec": {
   "display_name": "Python 3",
   "language": "python",
   "name": "python3"
  },
  "language_info": {
   "codemirror_mode": {
    "name": "ipython",
    "version": 3
   },
   "file_extension": ".py",
   "mimetype": "text/x-python",
   "name": "python",
   "nbconvert_exporter": "python",
   "pygments_lexer": "ipython3",
   "version": "3.6.9"
  }
 },
 "nbformat": 4,
 "nbformat_minor": 4
}
