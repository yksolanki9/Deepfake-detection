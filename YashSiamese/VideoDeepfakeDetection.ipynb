{
 "cells": [
  {
   "cell_type": "code",
   "execution_count": 4,
   "metadata": {
    "id": "Tvymuic2nZ3B"
   },
   "outputs": [],
   "source": [
    "import cv2\n",
    "import numpy as np\n",
    "import os\n",
    "from mtcnn.mtcnn import MTCNN\n",
    "from keras_facenet import FaceNet\n",
    "import joblib\n",
    "from matplotlib import pyplot as plt\n",
    "%matplotlib inline\n",
    "\n",
    "# If ImportError: libGL.so.1: cannot open shared object file: No such file or directory\n",
    "# Run this in the terminal\n",
    "# !apt update\n",
    "# !apt install libgl1-mesa-glx\n",
    "\n"
   ]
  },
  {
   "cell_type": "code",
   "execution_count": 2,
   "metadata": {
    "colab": {
     "base_uri": "https://localhost:8080/"
    },
    "id": "BwsUHqNin2AR",
    "outputId": "65d6b866-ac0d-4c91-eb44-a71668afe7ef"
   },
   "outputs": [
    {
     "name": "stdout",
     "output_type": "stream",
     "text": [
      "Requirement already satisfied: keras-facenet in /usr/local/lib/python3.6/dist-packages (0.3.2)\n",
      "Requirement already satisfied: mtcnn in /usr/local/lib/python3.6/dist-packages (from keras-facenet) (0.1.0)\n",
      "Requirement already satisfied: opencv-python>=4.1.0 in /usr/local/lib/python3.6/dist-packages (from mtcnn->keras-facenet) (4.5.1.48)\n",
      "Requirement already satisfied: keras>=2.0.0 in /usr/local/lib/python3.6/dist-packages (from mtcnn->keras-facenet) (2.4.3)\n",
      "Requirement already satisfied: numpy>=1.13.3 in /usr/local/lib/python3.6/dist-packages (from opencv-python>=4.1.0->mtcnn->keras-facenet) (1.17.3)\n",
      "Requirement already satisfied: scipy>=0.14 in /usr/local/lib/python3.6/dist-packages (from keras>=2.0.0->mtcnn->keras-facenet) (1.4.1)\n",
      "Requirement already satisfied: pyyaml in /usr/local/lib/python3.6/dist-packages (from keras>=2.0.0->mtcnn->keras-facenet) (5.3.1)\n",
      "Requirement already satisfied: h5py in /usr/local/lib/python3.6/dist-packages (from keras>=2.0.0->mtcnn->keras-facenet) (2.10.0)\n",
      "Requirement already satisfied: six in /usr/local/lib/python3.6/dist-packages (from h5py->keras>=2.0.0->mtcnn->keras-facenet) (1.15.0)\n",
      "\u001b[33mWARNING: You are using pip version 20.1.1; however, version 21.0.1 is available.\n",
      "You should consider upgrading via the '/usr/bin/python -m pip install --upgrade pip' command.\u001b[0m\n",
      "Requirement already satisfied: mtcnn in /usr/local/lib/python3.6/dist-packages (0.1.0)\n",
      "Requirement already satisfied: keras>=2.0.0 in /usr/local/lib/python3.6/dist-packages (from mtcnn) (2.4.3)\n",
      "Requirement already satisfied: opencv-python>=4.1.0 in /usr/local/lib/python3.6/dist-packages (from mtcnn) (4.5.1.48)\n",
      "Requirement already satisfied: numpy>=1.9.1 in /usr/local/lib/python3.6/dist-packages (from keras>=2.0.0->mtcnn) (1.17.3)\n",
      "Requirement already satisfied: pyyaml in /usr/local/lib/python3.6/dist-packages (from keras>=2.0.0->mtcnn) (5.3.1)\n",
      "Requirement already satisfied: scipy>=0.14 in /usr/local/lib/python3.6/dist-packages (from keras>=2.0.0->mtcnn) (1.4.1)\n",
      "Requirement already satisfied: h5py in /usr/local/lib/python3.6/dist-packages (from keras>=2.0.0->mtcnn) (2.10.0)\n",
      "Requirement already satisfied: six in /usr/local/lib/python3.6/dist-packages (from h5py->keras>=2.0.0->mtcnn) (1.15.0)\n",
      "\u001b[33mWARNING: You are using pip version 20.1.1; however, version 21.0.1 is available.\n",
      "You should consider upgrading via the '/usr/bin/python -m pip install --upgrade pip' command.\u001b[0m\n",
      "Requirement already satisfied: joblib in /usr/local/lib/python3.6/dist-packages (1.0.1)\n",
      "\u001b[33mWARNING: You are using pip version 20.1.1; however, version 21.0.1 is available.\n",
      "You should consider upgrading via the '/usr/bin/python -m pip install --upgrade pip' command.\u001b[0m\n",
      "Requirement already satisfied: sklearn in /usr/local/lib/python3.6/dist-packages (0.0)\n",
      "Requirement already satisfied: scikit-learn in /usr/local/lib/python3.6/dist-packages (from sklearn) (0.24.1)\n",
      "Requirement already satisfied: joblib>=0.11 in /usr/local/lib/python3.6/dist-packages (from scikit-learn->sklearn) (1.0.1)\n",
      "Requirement already satisfied: numpy>=1.13.3 in /usr/local/lib/python3.6/dist-packages (from scikit-learn->sklearn) (1.17.3)\n",
      "Requirement already satisfied: scipy>=0.19.1 in /usr/local/lib/python3.6/dist-packages (from scikit-learn->sklearn) (1.4.1)\n",
      "Requirement already satisfied: threadpoolctl>=2.0.0 in /usr/local/lib/python3.6/dist-packages (from scikit-learn->sklearn) (2.1.0)\n",
      "\u001b[33mWARNING: You are using pip version 20.1.1; however, version 21.0.1 is available.\n",
      "You should consider upgrading via the '/usr/bin/python -m pip install --upgrade pip' command.\u001b[0m\n",
      "Collecting matplotlib\n",
      "  Downloading matplotlib-3.3.4-cp36-cp36m-manylinux1_x86_64.whl (11.5 MB)\n",
      "\u001b[K     |████████████████████████████████| 11.5 MB 12.2 MB/s eta 0:00:01\n",
      "\u001b[?25hCollecting cycler>=0.10\n",
      "  Downloading cycler-0.10.0-py2.py3-none-any.whl (6.5 kB)\n",
      "Requirement already satisfied: python-dateutil>=2.1 in /usr/local/lib/python3.6/dist-packages (from matplotlib) (2.8.1)\n",
      "Requirement already satisfied: pyparsing!=2.0.4,!=2.1.2,!=2.1.6,>=2.0.3 in /usr/local/lib/python3.6/dist-packages (from matplotlib) (2.4.7)\n",
      "Collecting kiwisolver>=1.0.1\n",
      "  Downloading kiwisolver-1.3.1-cp36-cp36m-manylinux1_x86_64.whl (1.1 MB)\n",
      "\u001b[K     |████████████████████████████████| 1.1 MB 11.0 MB/s eta 0:00:01\n",
      "\u001b[?25hRequirement already satisfied: numpy>=1.15 in /usr/local/lib/python3.6/dist-packages (from matplotlib) (1.17.3)\n",
      "Collecting pillow>=6.2.0\n",
      "  Downloading Pillow-8.1.1-cp36-cp36m-manylinux1_x86_64.whl (2.2 MB)\n",
      "\u001b[K     |████████████████████████████████| 2.2 MB 11.2 MB/s eta 0:00:01\n",
      "\u001b[?25hRequirement already satisfied: six in /usr/local/lib/python3.6/dist-packages (from cycler>=0.10->matplotlib) (1.15.0)\n",
      "Installing collected packages: cycler, kiwisolver, pillow, matplotlib\n",
      "Successfully installed cycler-0.10.0 kiwisolver-1.3.1 matplotlib-3.3.4 pillow-8.1.1\n",
      "\u001b[33mWARNING: You are using pip version 20.1.1; however, version 21.0.1 is available.\n",
      "You should consider upgrading via the '/usr/bin/python -m pip install --upgrade pip' command.\u001b[0m\n"
     ]
    }
   ],
   "source": [
    "!pip install keras-facenet\n",
    "!pip install mtcnn\n",
    "!pip install joblib\n",
    "!pip install sklearn\n",
    "!pip install matplotlib"
   ]
  },
  {
   "cell_type": "code",
   "execution_count": 23,
   "metadata": {
    "colab": {
     "base_uri": "https://localhost:8080/"
    },
    "id": "kO7lgs6MoDW2",
    "outputId": "fd245ba5-e24d-4381-947e-f1675b0dab90"
   },
   "outputs": [
    {
     "name": "stdout",
     "output_type": "stream",
     "text": [
      "FaceNet loaded\n"
     ]
    },
    {
     "name": "stderr",
     "output_type": "stream",
     "text": [
      "/usr/local/lib/python3.6/dist-packages/sklearn/base.py:315: UserWarning: Trying to unpickle estimator DecisionTreeClassifier from version 0.22.2.post1 when using version 0.24.1. This might lead to breaking code or invalid results. Use at your own risk.\n",
      "  UserWarning)\n",
      "/usr/local/lib/python3.6/dist-packages/sklearn/base.py:315: UserWarning: Trying to unpickle estimator RandomForestClassifier from version 0.22.2.post1 when using version 0.24.1. This might lead to breaking code or invalid results. Use at your own risk.\n",
      "  UserWarning)\n"
     ]
    },
    {
     "name": "stdout",
     "output_type": "stream",
     "text": [
      "Classifier model loaded\n",
      "Loading tc_v1.mp4...\n",
      "Real :  0 , Fake :  100 , Neither :  0\n",
      "Real :  4 , Fake :  313 , Neither :  3\n",
      "Real :  7 , Fake :  407 , Neither :  3\n",
      "Real :  7 , Fake :  507 , Neither :  3\n",
      "Real :  9 , Fake :  589 , Neither :  4\n",
      "Frame 1054 does not exist\n",
      "Loading tc_v2.mp4...\n",
      "Real :  0 , Fake :  98 , Neither :  0\n",
      "Real :  0 , Fake :  197 , Neither :  1\n",
      "Real :  0 , Fake :  294 , Neither :  1\n",
      "Real :  0 , Fake :  488 , Neither :  1\n",
      "Real :  0 , Fake :  588 , Neither :  1\n",
      "Frame 614 does not exist\n",
      "Loading nm_v1.mp4...\n",
      "WARNING:tensorflow:5 out of the last 49928 calls to <function Model.make_predict_function.<locals>.predict_function at 0x7f2b90061e18> triggered tf.function retracing. Tracing is expensive and the excessive number of tracings is likely due to passing python objects instead of tensors. Also, tf.function has experimental_relax_shapes=True option that relaxes argument shapes that can avoid unnecessary retracing. Please refer to https://www.tensorflow.org/tutorials/customization/performance#python_or_tensor_args and https://www.tensorflow.org/api_docs/python/tf/function for more details.\n",
      "WARNING:tensorflow:6 out of the last 49929 calls to <function Model.make_predict_function.<locals>.predict_function at 0x7f2b90061e18> triggered tf.function retracing. Tracing is expensive and the excessive number of tracings is likely due to passing python objects instead of tensors. Also, tf.function has experimental_relax_shapes=True option that relaxes argument shapes that can avoid unnecessary retracing. Please refer to https://www.tensorflow.org/tutorials/customization/performance#python_or_tensor_args and https://www.tensorflow.org/api_docs/python/tf/function for more details.\n",
      "WARNING:tensorflow:7 out of the last 49930 calls to <function Model.make_predict_function.<locals>.predict_function at 0x7f2b90061e18> triggered tf.function retracing. Tracing is expensive and the excessive number of tracings is likely due to passing python objects instead of tensors. Also, tf.function has experimental_relax_shapes=True option that relaxes argument shapes that can avoid unnecessary retracing. Please refer to https://www.tensorflow.org/tutorials/customization/performance#python_or_tensor_args and https://www.tensorflow.org/api_docs/python/tf/function for more details.\n",
      "WARNING:tensorflow:8 out of the last 49931 calls to <function Model.make_predict_function.<locals>.predict_function at 0x7f2b90061e18> triggered tf.function retracing. Tracing is expensive and the excessive number of tracings is likely due to passing python objects instead of tensors. Also, tf.function has experimental_relax_shapes=True option that relaxes argument shapes that can avoid unnecessary retracing. Please refer to https://www.tensorflow.org/tutorials/customization/performance#python_or_tensor_args and https://www.tensorflow.org/api_docs/python/tf/function for more details.\n",
      "WARNING:tensorflow:9 out of the last 49932 calls to <function Model.make_predict_function.<locals>.predict_function at 0x7f2b90061e18> triggered tf.function retracing. Tracing is expensive and the excessive number of tracings is likely due to passing python objects instead of tensors. Also, tf.function has experimental_relax_shapes=True option that relaxes argument shapes that can avoid unnecessary retracing. Please refer to https://www.tensorflow.org/tutorials/customization/performance#python_or_tensor_args and https://www.tensorflow.org/api_docs/python/tf/function for more details.\n",
      "WARNING:tensorflow:10 out of the last 49933 calls to <function Model.make_predict_function.<locals>.predict_function at 0x7f2b90061e18> triggered tf.function retracing. Tracing is expensive and the excessive number of tracings is likely due to passing python objects instead of tensors. Also, tf.function has experimental_relax_shapes=True option that relaxes argument shapes that can avoid unnecessary retracing. Please refer to https://www.tensorflow.org/tutorials/customization/performance#python_or_tensor_args and https://www.tensorflow.org/api_docs/python/tf/function for more details.\n",
      "Real :  0 , Fake :  90 , Neither :  0\n",
      "Real :  0 , Fake :  257 , Neither :  1\n",
      "Real :  3 , Fake :  332 , Neither :  9\n",
      "Real :  3 , Fake :  412 , Neither :  9\n",
      "Real :  3 , Fake :  491 , Neither :  9\n",
      "Real :  3 , Fake :  636 , Neither :  9\n",
      "Real :  3 , Fake :  724 , Neither :  9\n",
      "Frame 915 does not exist\n"
     ]
    }
   ],
   "source": [
    "abs_path = '/scratch/ysolanki/SiameseFacebook/'\n",
    "vid_path = abs_path + 'TestVideos/'\n",
    "op_path = abs_path + 'output/'\n",
    "\n",
    "# if not os.path.exists(op_path):\n",
    "#     os.makedirs(op_path)\n",
    "    \n",
    "# 20170511-185253 - 128\n",
    "# 20170512-110547 - 128 -- We trained on this \n",
    "embedder = FaceNet(key='20170512-110547')\n",
    "print('FaceNet loaded')\n",
    "\n",
    "model = joblib.load(abs_path + 'PakshalML/rfc_model.sav')\n",
    "print('Classifier model loaded')\n",
    "\n",
    "for file in os.listdir(vid_path):    \n",
    "    if not file.endswith('.mp4'):\n",
    "        continue\n",
    "    vid = cv2.VideoCapture(vid_path + file)\n",
    "    print(\"Loading \" + file + \"...\")\n",
    "    count = 0\n",
    "    success = True\n",
    "\n",
    "    real_count = 0\n",
    "    fake_count = 0\n",
    "    eq_count = 0\n",
    "    writer = None\n",
    "\n",
    "    while success:\n",
    "        success, img = vid.read()\n",
    "\n",
    "        if img is None:\n",
    "            print('Frame %d does not exist' %count)\n",
    "            continue\n",
    "\n",
    "        count += 1\n",
    "\n",
    "        if writer is None:\n",
    "            fourcc = cv2.VideoWriter_fourcc(*\"MJPG\")\n",
    "            writer = cv2.VideoWriter(op_path + file.split('.')[0] + '_op.avi', fourcc, 20, (img.shape[1], img.shape[0]), True)\n",
    "\n",
    "        # This detects faces using MTCNN and returns 512/128 embeddings generated from FaceNet\n",
    "        detections = embedder.extract(img)\n",
    "        if not detections:\n",
    "            writer.write(img)\n",
    "    #         cv2.imwrite(op_path + \"{:05d}.jpg\".format(count), img)\n",
    "            continue\n",
    "\n",
    "    #   bounding_box = [x, y, width, height]\n",
    "        bounding_box = detections[0]['box']\n",
    "        x, y, width, height = bounding_box\n",
    "        embeddings = detections[0]['embedding']\n",
    "        embeddings = np.expand_dims(embeddings, axis=0)\n",
    "        pred_proba = model.predict_proba(embeddings)\n",
    "\n",
    "        if pred_proba[0][0] > pred_proba[0][1]:\n",
    "            fake_count += 1\n",
    "            text = 'Fake:' + str(pred_proba[0][0])\n",
    "            rgb = (0, 0, 255)\n",
    "\n",
    "        elif pred_proba[0][0] < pred_proba[0][1]:\n",
    "            real_count += 1\n",
    "            text = 'Real:' + str(pred_proba[0][1])\n",
    "            rgb = (0,255,0)\n",
    "\n",
    "        else:\n",
    "            eq_count += 1\n",
    "            text = ''\n",
    "            rgb = (255,0,0)\n",
    "\n",
    "#         text = 'Real:' + str(pred_proba[0][1]) + ' Fake:' + str(pred_proba[0][0])\n",
    "        cv2.rectangle(img, (x, y), (x + width, y + height), rgb, 2)\n",
    "\n",
    "    #         Move text down if it goes beyond image\n",
    "        text_y = y - 15 if y - 15 > 15 else y + 15\n",
    "        cv2.putText(img, text, (x, text_y), cv2.FONT_HERSHEY_SIMPLEX, 0.75, rgb, 2)\n",
    "\n",
    "    #     cv2.imwrite(op_path + \"{:05d}.jpg\".format(count), img)\n",
    "        writer.write(img)\n",
    "\n",
    "        if count % 100 == 0:\n",
    "            print(\"Real : \", real_count, \", Fake : \", fake_count, \", Neither : \", eq_count)\n",
    "    writer.release()"
   ]
  },
  {
   "cell_type": "code",
   "execution_count": 15,
   "metadata": {
    "id": "9wQZjtxvppWF"
   },
   "outputs": [],
   "source": [
    "vid_op = vid_path + 'output/tc_v1/'\n",
    "files = os.listdir(op_path)\n",
    "files.sort()\n",
    "writer = None\n",
    "for frame in files:\n",
    "    frame = cv2.imread(op_path + frame)\n",
    "    if writer is None:\n",
    "        fourcc = cv2.VideoWriter_fourcc(*\"MJPG\")\n",
    "        writer = cv2.VideoWriter(vid_op + 'tc_v1_op.avi', fourcc, 20, (frame.shape[1], frame.shape[0]), True)\n",
    "    writer.write(frame)\n",
    "writer.release()"
   ]
  },
  {
   "cell_type": "code",
   "execution_count": 23,
   "metadata": {},
   "outputs": [
    {
     "name": "stdout",
     "output_type": "stream",
     "text": [
      "[[1, 2, 3]]\n"
     ]
    }
   ],
   "source": [
    "arr = []\n",
    "a = [1,2,3]\n",
    "b = [4,5,6]\n",
    "c = [7,8,9]\n",
    "\n",
    "arr.append(a)\n",
    "print(arr)"
   ]
  },
  {
   "cell_type": "code",
   "execution_count": 9,
   "metadata": {},
   "outputs": [],
   "source": [
    "rm -r ../TestVideos/output/tc_v1/frames"
   ]
  },
  {
   "cell_type": "code",
   "execution_count": 19,
   "metadata": {},
   "outputs": [
    {
     "name": "stdout",
     "output_type": "stream",
     "text": [
      "tc_v1.mp4\n",
      "tc_v2.mp4\n",
      "nm_v1.mp4\n"
     ]
    }
   ],
   "source": [
    "for file in os.listdir(vid_path):    \n",
    "    if not file.endswith('.mp4'):\n",
    "        continue\n",
    "    print(file)"
   ]
  },
  {
   "cell_type": "code",
   "execution_count": null,
   "metadata": {},
   "outputs": [],
   "source": []
  }
 ],
 "metadata": {
  "colab": {
   "collapsed_sections": [],
   "name": "VideoDeepfakeDetection.ipynb",
   "provenance": []
  },
  "kernelspec": {
   "display_name": "Python 3",
   "language": "python",
   "name": "python3"
  },
  "language_info": {
   "codemirror_mode": {
    "name": "ipython",
    "version": 3
   },
   "file_extension": ".py",
   "mimetype": "text/x-python",
   "name": "python",
   "nbconvert_exporter": "python",
   "pygments_lexer": "ipython3",
   "version": "3.6.9"
  }
 },
 "nbformat": 4,
 "nbformat_minor": 1
}
